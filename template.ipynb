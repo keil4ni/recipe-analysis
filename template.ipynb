{
  "cells": [
    {
      "cell_type": "markdown",
      "metadata": {
        "id": "6hpDA3OsEqUl"
      },
      "source": [
        "# Do Longer Recipes Get Higher Ratings?\n",
        "\n",
        "**Name(s)**: Casey So and Keilani Li\n",
        "\n",
        "**Website Link**: https://keil4ni.github.io/recipe-analysis/"
      ]
    },
    {
      "cell_type": "code",
      "execution_count": 1,
      "metadata": {
        "ExecuteTime": {
          "end_time": "2019-10-31T23:36:28.652554Z",
          "start_time": "2019-10-31T23:36:27.180520Z"
        },
        "id": "hIAlOGVYEqUm"
      },
      "outputs": [],
      "source": [
        "import pandas as pd\n",
        "import numpy as np\n",
        "from pathlib import Path\n",
        "\n",
        "import plotly.express as px\n",
        "pd.options.plotting.backend = 'plotly'\n",
        "\n",
        "# from dsc80_utils import * # Feel free to uncomment and use this."
      ]
    },
    {
      "cell_type": "markdown",
      "metadata": {
        "id": "9-PQgvAnEqUn"
      },
      "source": [
        "## Step 1: Introduction"
      ]
    },
    {
      "cell_type": "markdown",
      "source": [
        "When looking for a recipe online, one of the first things people notice besides from the ingredients is how long it takes to cook. Some users are looking for quick meals they can prepare in under 30 minutes, while others are willing to invest time in more complex dishes. But does the time required to cook a recipe actually affect how well it's rated?\n",
        "\n",
        "This project explores the connection between cooking time and user ratings of recipes. The goal is to find out whether recipes that take longer to make tend to receive better ratings, or if users prefer faster, simpler options. To do this, we will be working with a dataset of recipes that includes details like total cooking time, ingredients, steps, and user ratings.\n",
        "\n",
        "By analyzing these variables, we want to see if there's a pattern, do people reward effort with higher ratings, or do they value convenience more? The results might help explain what makes a recipe more appealing to home cooks, and whether time investment is actually reflected in how satisfied users are with the outcome."
      ],
      "metadata": {
        "id": "TaFCXFGCKpoI"
      }
    },
    {
      "cell_type": "markdown",
      "source": [
        "## Data Sets\n"
      ],
      "metadata": {
        "id": "if0i5z_aPwzF"
      }
    },
    {
      "cell_type": "markdown",
      "source": [
        "We are analyzing two datasets from Food.com, containing recipes and user ratings posted between 2008 and 2018. These datasets were originally compiled for a research paper on recommender systems titled \"Generating Personalized Recipes from Historical User Preferences\" by Majumder et al.\n",
        "\n",
        "The first dataset, called recipes, includes 83,782 entries, each representing a unique recipe. It contains 10 columns that capture various attributes of each recipe, such as:"
      ],
      "metadata": {
        "id": "VxFoD1SGP4aY"
      }
    },
    {
      "cell_type": "markdown",
      "source": [
        "      Column             | Description\n",
        "      -------------------|------------------\n",
        "      'name'\t     | Recipe name\n",
        "      'id'\t             | Recipe ID\n",
        "      'minutes'          | Minutes to prepare recipe\n",
        "      'contributor_id'   | User ID who submitted this recipe\n",
        "      'submitted'        | Date recipe was submitted\n",
        "      'tags'             | Food.com tags for recipe\n",
        "      'nutrition'\t     | Nutrition information in the form\n",
        "                         | [calories (#), total fat (PDV), sugar (PDV), sodium (PDV), protein (PDV),\n",
        "                         | saturated fat (PDV), carbohydrates (PDV)];\n",
        "                         | PDV stands for “percentage of daily value\"\n",
        "      'n_steps'\t     | Number of steps in recipe\n",
        "      'steps'            | Text for recipe steps, in order\n",
        "      'description'\t     | User-provided description\n",
        "      'ingredients'\t     | Text for recipe ingredients\n",
        "      'n_ingredients'    | Number of ingredients in recipe"
      ],
      "metadata": {
        "id": "0TPetCM_QpkD"
      }
    },
    {
      "cell_type": "markdown",
      "source": [
        "The second dataset, interactions, contains 731,927 entries, with each row representing a user's interaction with a specific recipe—typically a review or rating. This dataset helps capture user preferences and engagement over time. The columns included are:"
      ],
      "metadata": {
        "id": "WAvdR76aQD1u"
      }
    },
    {
      "cell_type": "markdown",
      "source": [
        "      Column             | Description\n",
        "      -------------------|------------------\n",
        "      'user_id'\t     | User ID\n",
        "      'recipe_id'\t     | Recipe ID\n",
        "      'date'\t     | Date of interaction\n",
        "      'rating'\t     | Rating given\n",
        "      'review'\t     | Review text"
      ],
      "metadata": {
        "id": "Q720VN4bTgwS"
      }
    },
    {
      "cell_type": "markdown",
      "source": [
        "'name'\tRecipe name\n",
        "'id'\tRecipe ID\n",
        "'minutes'\tMinutes to prepare recipe\n",
        "'contributor_id'\tUser ID who submitted this recipe\n",
        "'submitted'\tDate recipe was submitted\n",
        "'tags'\tFood.com tags for recipe\n",
        "'nutrition'\tNutrition information in the form [calories (#), total fat (PDV), sugar (PDV), sodium (PDV), protein (PDV), saturated fat (PDV), carbohydrates (PDV)]; PDV stands for “percentage of daily value”\n",
        "'n_steps'\tNumber of steps in recipe\n",
        "'steps'\tText for recipe steps, in order\n",
        "'description'\tUser-provided description\n",
        "'ingredients'\tText for recipe ingredients\n",
        "'n_ingredients'\tNumber of ingredients in recipe"
      ],
      "metadata": {
        "id": "P9azh6sZLpok"
      }
    },
    {
      "cell_type": "code",
      "execution_count": null,
      "metadata": {
        "id": "7KM9QPJAEqUn"
      },
      "outputs": [],
      "source": [
        "# TODO"
      ]
    },
    {
      "cell_type": "markdown",
      "metadata": {
        "id": "PM75M8hMEqUn"
      },
      "source": [
        "## Step 2: Data Cleaning and Exploratory Data Analysis"
      ]
    },
    {
      "cell_type": "code",
      "execution_count": null,
      "metadata": {
        "ExecuteTime": {
          "end_time": "2019-10-31T23:36:28.657068Z",
          "start_time": "2019-10-31T23:36:28.654650Z"
        },
        "id": "UxEvLcWcEqUn"
      },
      "outputs": [],
      "source": [
        "# read in recipes df\n",
        "recipes_path = Path('data') / 'RAW_recipes.csv'\n",
        "recipes = pd.read_csv(recipes_path)\n",
        "recipes.head()"
      ]
    },
    {
      "cell_type": "code",
      "source": [
        "# read in interactions df\n",
        "interactions_path = Path('data') / 'interactions.csv'\n",
        "interactions = pd.read_csv(interactions_path)\n",
        "interactions.head()"
      ],
      "metadata": {
        "id": "MZDVT4IfW8k8"
      },
      "execution_count": null,
      "outputs": []
    },
    {
      "cell_type": "code",
      "source": [
        "# merge recipes + interactions dfs\n",
        "df = recipes.merge(interactions, how = 'left', left_on = 'id', right_on = 'recipe_id')\n",
        "df.head()"
      ],
      "metadata": {
        "id": "W111BZ5nW-4T"
      },
      "execution_count": null,
      "outputs": []
    },
    {
      "cell_type": "code",
      "source": [
        "# num of (rows, cols)\n",
        "df.shape"
      ],
      "metadata": {
        "id": "jLcMGbn1W_Tr"
      },
      "execution_count": null,
      "outputs": []
    },
    {
      "cell_type": "code",
      "source": [
        "# num of nans before replacement\n",
        "df[df['rating'].isnull()].shape"
      ],
      "metadata": {
        "id": "eyxHxujnW_bU"
      },
      "execution_count": null,
      "outputs": []
    },
    {
      "cell_type": "code",
      "source": [
        "# num of 0 ratings before replacement\n",
        "df[df['rating'] == 0.0].shape"
      ],
      "metadata": {
        "id": "gfFy7n4PXC2R"
      },
      "execution_count": null,
      "outputs": []
    },
    {
      "cell_type": "code",
      "source": [
        "# num of nans after replacement\n",
        "df = df.replace(0.0, np.nan)\n",
        "df[df['rating'].isnull()].shape"
      ],
      "metadata": {
        "id": "4RKe171aXCRb"
      },
      "execution_count": null,
      "outputs": []
    },
    {
      "cell_type": "code",
      "source": [
        "# find avg rating per recipe\n",
        "df['avg_rating'] = df.groupby('id')['rating'].transform('mean')\n",
        "df"
      ],
      "metadata": {
        "id": "0-p_CRkeXEdB"
      },
      "execution_count": null,
      "outputs": []
    },
    {
      "cell_type": "code",
      "source": [
        "# check if avg rating is correct for any recipe\n",
        "df[(df['id'] == 306168)]"
      ],
      "metadata": {
        "id": "L77TYldFXF2Y"
      },
      "execution_count": null,
      "outputs": []
    },
    {
      "cell_type": "code",
      "source": [
        "df.columns"
      ],
      "metadata": {
        "id": "_Tlf4LKnXG5R"
      },
      "execution_count": null,
      "outputs": []
    },
    {
      "cell_type": "code",
      "source": [
        "# df[['id', 'recipe_id']]\n",
        "\n",
        "# drop id bc its a dupe of recipe_id col. recipe_id is a more specific col name\n",
        "# drop contributor_id bc it's unique, doesn't contrib to our analysis\n",
        "\n",
        "df = df.drop(columns = ['id', 'contributor_id'])"
      ],
      "metadata": {
        "id": "sp7S6bY9XHho"
      },
      "execution_count": null,
      "outputs": []
    },
    {
      "cell_type": "code",
      "source": [
        "df"
      ],
      "metadata": {
        "id": "nJqSBjRrXJy1"
      },
      "execution_count": null,
      "outputs": []
    },
    {
      "cell_type": "code",
      "source": [
        "'''\n",
        "reorder cols for better readability\n",
        "'''"
      ],
      "metadata": {
        "id": "RRTukpXDXKsC"
      },
      "execution_count": null,
      "outputs": []
    },
    {
      "cell_type": "markdown",
      "metadata": {
        "id": "Vpzx_W3LEqUn"
      },
      "source": [
        "## Step 3: Assessment of Missingness"
      ]
    },
    {
      "cell_type": "code",
      "execution_count": null,
      "metadata": {
        "ExecuteTime": {
          "end_time": "2019-10-31T23:36:28.662099Z",
          "start_time": "2019-10-31T23:36:28.660016Z"
        },
        "id": "vxtGaNsREqUn"
      },
      "outputs": [],
      "source": [
        "# TODO"
      ]
    },
    {
      "cell_type": "markdown",
      "metadata": {
        "id": "PmbPHd76EqUn"
      },
      "source": [
        "## Step 4: Hypothesis Testing"
      ]
    },
    {
      "cell_type": "code",
      "execution_count": null,
      "metadata": {
        "ExecuteTime": {
          "end_time": "2019-10-31T23:36:28.666489Z",
          "start_time": "2019-10-31T23:36:28.664381Z"
        },
        "id": "PKvIVCDdEqUn"
      },
      "outputs": [],
      "source": [
        "# TODO"
      ]
    },
    {
      "cell_type": "markdown",
      "metadata": {
        "id": "D3KUHHBeEqUo"
      },
      "source": [
        "## Step 5: Framing a Prediction Problem"
      ]
    },
    {
      "cell_type": "code",
      "execution_count": null,
      "metadata": {
        "ExecuteTime": {
          "end_time": "2019-10-31T23:36:28.657068Z",
          "start_time": "2019-10-31T23:36:28.654650Z"
        },
        "id": "aH7zA73qEqUo"
      },
      "outputs": [],
      "source": [
        "# TODO"
      ]
    },
    {
      "cell_type": "markdown",
      "metadata": {
        "id": "7BD9zUbJEqUo"
      },
      "source": [
        "## Step 6: Baseline Model"
      ]
    },
    {
      "cell_type": "code",
      "execution_count": null,
      "metadata": {
        "ExecuteTime": {
          "end_time": "2019-10-31T23:36:28.662099Z",
          "start_time": "2019-10-31T23:36:28.660016Z"
        },
        "id": "S8mf8gJxEqUo"
      },
      "outputs": [],
      "source": [
        "# TODO"
      ]
    },
    {
      "cell_type": "markdown",
      "metadata": {
        "id": "qPBl4zO8EqUo"
      },
      "source": [
        "## Step 7: Final Model"
      ]
    },
    {
      "cell_type": "code",
      "execution_count": null,
      "metadata": {
        "ExecuteTime": {
          "end_time": "2019-10-31T23:36:28.662099Z",
          "start_time": "2019-10-31T23:36:28.660016Z"
        },
        "id": "XPDtVX4lEqUo"
      },
      "outputs": [],
      "source": [
        "# TODO"
      ]
    },
    {
      "cell_type": "markdown",
      "metadata": {
        "id": "23hZItXfEqUo"
      },
      "source": [
        "## Step 8: Fairness Analysis"
      ]
    },
    {
      "cell_type": "code",
      "execution_count": null,
      "metadata": {
        "ExecuteTime": {
          "end_time": "2019-10-31T23:36:28.666489Z",
          "start_time": "2019-10-31T23:36:28.664381Z"
        },
        "id": "9fLZrHKAEqUo"
      },
      "outputs": [],
      "source": [
        "# TODO"
      ]
    }
  ],
  "metadata": {
    "kernelspec": {
      "display_name": "Python 3 (ipykernel)",
      "language": "python",
      "name": "python3"
    },
    "language_info": {
      "codemirror_mode": {
        "name": "ipython",
        "version": 3
      },
      "file_extension": ".py",
      "mimetype": "text/x-python",
      "name": "python",
      "nbconvert_exporter": "python",
      "pygments_lexer": "ipython3",
      "version": "3.12.10"
    },
    "colab": {
      "provenance": []
    }
  },
  "nbformat": 4,
  "nbformat_minor": 0
}