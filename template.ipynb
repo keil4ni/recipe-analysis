{
  "cells": [
    {
      "cell_type": "markdown",
      "metadata": {
        "id": "6hpDA3OsEqUl"
      },
      "source": [
        "# Do Longer Recipes Get Higher Ratings?\n",
        "\n",
        "**Name(s)**: Casey So and Keilani Li\n",
        "\n",
        "**Website Link**: https://keil4ni.github.io/recipe-analysis/"
      ]
    },
    {
      "cell_type": "code",
      "execution_count": null,
      "metadata": {
        "ExecuteTime": {
          "end_time": "2019-10-31T23:36:28.652554Z",
          "start_time": "2019-10-31T23:36:27.180520Z"
        },
        "id": "hIAlOGVYEqUm"
      },
      "outputs": [],
      "source": [
        "import pandas as pd\n",
        "import numpy as np\n",
        "from pathlib import Path\n",
        "\n",
        "import plotly.express as px\n",
        "pd.options.plotting.backend = 'plotly'\n",
        "\n",
        "# from dsc80_utils import * # Feel free to uncomment and use this."
      ]
    },
    {
      "cell_type": "markdown",
      "metadata": {
        "id": "9-PQgvAnEqUn"
      },
      "source": [
        "## Step 1: Introduction"
      ]
    },
    {
      "cell_type": "code",
      "execution_count": null,
      "metadata": {
        "id": "7KM9QPJAEqUn"
      },
      "outputs": [],
      "source": [
        "# TODO"
      ]
    },
    {
      "cell_type": "markdown",
      "metadata": {
        "id": "PM75M8hMEqUn"
      },
      "source": [
        "## Step 2: Data Cleaning and Exploratory Data Analysis"
      ]
    },
    {
      "cell_type": "code",
      "execution_count": null,
      "metadata": {
        "ExecuteTime": {
          "end_time": "2019-10-31T23:36:28.657068Z",
          "start_time": "2019-10-31T23:36:28.654650Z"
        },
        "id": "UxEvLcWcEqUn"
      },
      "outputs": [],
      "source": [
        "# read in recipes df\n",
        "recipes_path = Path('data') / 'RAW_recipes.csv'\n",
        "recipes = pd.read_csv(recipes_path)\n",
        "recipes.head()"
      ]
    },
    {
      "cell_type": "code",
      "source": [
        "# read in interactions df\n",
        "interactions_path = Path('data') / 'interactions.csv'\n",
        "interactions = pd.read_csv(interactions_path)\n",
        "interactions.head()"
      ],
      "metadata": {
        "id": "MZDVT4IfW8k8"
      },
      "execution_count": null,
      "outputs": []
    },
    {
      "cell_type": "code",
      "source": [
        "# merge recipes + interactions dfs\n",
        "df = recipes.merge(interactions, how = 'left', left_on = 'id', right_on = 'recipe_id')\n",
        "df.head()"
      ],
      "metadata": {
        "id": "W111BZ5nW-4T"
      },
      "execution_count": null,
      "outputs": []
    },
    {
      "cell_type": "code",
      "source": [
        "# num of (rows, cols)\n",
        "df.shape"
      ],
      "metadata": {
        "id": "jLcMGbn1W_Tr"
      },
      "execution_count": null,
      "outputs": []
    },
    {
      "cell_type": "code",
      "source": [
        "# num of nans before replacement\n",
        "df[df['rating'].isnull()].shape"
      ],
      "metadata": {
        "id": "eyxHxujnW_bU"
      },
      "execution_count": null,
      "outputs": []
    },
    {
      "cell_type": "code",
      "source": [
        "# num of 0 ratings before replacement\n",
        "df[df['rating'] == 0.0].shape"
      ],
      "metadata": {
        "id": "gfFy7n4PXC2R"
      },
      "execution_count": null,
      "outputs": []
    },
    {
      "cell_type": "code",
      "source": [
        "# num of nans after replacement\n",
        "df = df.replace(0.0, np.nan)\n",
        "df[df['rating'].isnull()].shape"
      ],
      "metadata": {
        "id": "4RKe171aXCRb"
      },
      "execution_count": null,
      "outputs": []
    },
    {
      "cell_type": "code",
      "source": [
        "# find avg rating per recipe\n",
        "df['avg_rating'] = df.groupby('id')['rating'].transform('mean')\n",
        "df"
      ],
      "metadata": {
        "id": "0-p_CRkeXEdB"
      },
      "execution_count": null,
      "outputs": []
    },
    {
      "cell_type": "code",
      "source": [
        "# check if avg rating is correct for any recipe\n",
        "df[(df['id'] == 306168)]"
      ],
      "metadata": {
        "id": "L77TYldFXF2Y"
      },
      "execution_count": null,
      "outputs": []
    },
    {
      "cell_type": "code",
      "source": [
        "df.columns"
      ],
      "metadata": {
        "id": "_Tlf4LKnXG5R"
      },
      "execution_count": null,
      "outputs": []
    },
    {
      "cell_type": "code",
      "source": [
        "# df[['id', 'recipe_id']]\n",
        "\n",
        "# drop id bc its a dupe of recipe_id col. recipe_id is a more specific col name\n",
        "# drop contributor_id bc it's unique, doesn't contrib to our analysis\n",
        "\n",
        "df = df.drop(columns = ['id', 'contributor_id'])"
      ],
      "metadata": {
        "id": "sp7S6bY9XHho"
      },
      "execution_count": null,
      "outputs": []
    },
    {
      "cell_type": "code",
      "source": [
        "df"
      ],
      "metadata": {
        "id": "nJqSBjRrXJy1"
      },
      "execution_count": null,
      "outputs": []
    },
    {
      "cell_type": "code",
      "source": [
        "'''\n",
        "reorder cols for better readability\n",
        "'''"
      ],
      "metadata": {
        "id": "RRTukpXDXKsC"
      },
      "execution_count": null,
      "outputs": []
    },
    {
      "cell_type": "markdown",
      "metadata": {
        "id": "Vpzx_W3LEqUn"
      },
      "source": [
        "## Step 3: Assessment of Missingness"
      ]
    },
    {
      "cell_type": "code",
      "execution_count": null,
      "metadata": {
        "ExecuteTime": {
          "end_time": "2019-10-31T23:36:28.662099Z",
          "start_time": "2019-10-31T23:36:28.660016Z"
        },
        "id": "vxtGaNsREqUn"
      },
      "outputs": [],
      "source": [
        "# TODO"
      ]
    },
    {
      "cell_type": "markdown",
      "metadata": {
        "id": "PmbPHd76EqUn"
      },
      "source": [
        "## Step 4: Hypothesis Testing"
      ]
    },
    {
      "cell_type": "code",
      "execution_count": null,
      "metadata": {
        "ExecuteTime": {
          "end_time": "2019-10-31T23:36:28.666489Z",
          "start_time": "2019-10-31T23:36:28.664381Z"
        },
        "id": "PKvIVCDdEqUn"
      },
      "outputs": [],
      "source": [
        "# TODO"
      ]
    },
    {
      "cell_type": "markdown",
      "metadata": {
        "id": "D3KUHHBeEqUo"
      },
      "source": [
        "## Step 5: Framing a Prediction Problem"
      ]
    },
    {
      "cell_type": "code",
      "execution_count": null,
      "metadata": {
        "ExecuteTime": {
          "end_time": "2019-10-31T23:36:28.657068Z",
          "start_time": "2019-10-31T23:36:28.654650Z"
        },
        "id": "aH7zA73qEqUo"
      },
      "outputs": [],
      "source": [
        "# TODO"
      ]
    },
    {
      "cell_type": "markdown",
      "metadata": {
        "id": "7BD9zUbJEqUo"
      },
      "source": [
        "## Step 6: Baseline Model"
      ]
    },
    {
      "cell_type": "code",
      "execution_count": null,
      "metadata": {
        "ExecuteTime": {
          "end_time": "2019-10-31T23:36:28.662099Z",
          "start_time": "2019-10-31T23:36:28.660016Z"
        },
        "id": "S8mf8gJxEqUo"
      },
      "outputs": [],
      "source": [
        "# TODO"
      ]
    },
    {
      "cell_type": "markdown",
      "metadata": {
        "id": "qPBl4zO8EqUo"
      },
      "source": [
        "## Step 7: Final Model"
      ]
    },
    {
      "cell_type": "code",
      "execution_count": null,
      "metadata": {
        "ExecuteTime": {
          "end_time": "2019-10-31T23:36:28.662099Z",
          "start_time": "2019-10-31T23:36:28.660016Z"
        },
        "id": "XPDtVX4lEqUo"
      },
      "outputs": [],
      "source": [
        "# TODO"
      ]
    },
    {
      "cell_type": "markdown",
      "metadata": {
        "id": "23hZItXfEqUo"
      },
      "source": [
        "## Step 8: Fairness Analysis"
      ]
    },
    {
      "cell_type": "code",
      "execution_count": null,
      "metadata": {
        "ExecuteTime": {
          "end_time": "2019-10-31T23:36:28.666489Z",
          "start_time": "2019-10-31T23:36:28.664381Z"
        },
        "id": "9fLZrHKAEqUo"
      },
      "outputs": [],
      "source": [
        "# TODO"
      ]
    }
  ],
  "metadata": {
    "kernelspec": {
      "display_name": "Python 3 (ipykernel)",
      "language": "python",
      "name": "python3"
    },
    "language_info": {
      "codemirror_mode": {
        "name": "ipython",
        "version": 3
      },
      "file_extension": ".py",
      "mimetype": "text/x-python",
      "name": "python",
      "nbconvert_exporter": "python",
      "pygments_lexer": "ipython3",
      "version": "3.12.10"
    },
    "colab": {
      "provenance": []
    }
  },
  "nbformat": 4,
  "nbformat_minor": 0
}